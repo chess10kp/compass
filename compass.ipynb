{
 "cells": [
  {
   "cell_type": "code",
   "execution_count": 3,
   "metadata": {},
   "outputs": [],
   "source": [
    "import pandas as pd \n",
    "import matplotlib.pyplot as plt\n",
    "import numpy as np\n",
    "import seaborn as sns"
   ]
  },
  {
   "cell_type": "code",
   "execution_count": 4,
   "metadata": {},
   "outputs": [],
   "source": [
    "import os\n",
    "assert(\"compas-scores-raw.csv\" in os.listdir())\n",
    "\n",
    "columns =  ['Agency_Text', 'Sex_Code_Text', 'Ethnic_Code_Text',\n",
    "       'DateOfBirth', 'ScaleSet_ID', 'AssessmentReason',\n",
    "       'Language', 'LegalStatus', 'CustodyStatus', 'MaritalStatus',\n",
    "       'RecSupervisionLevel', 'RecSupervisionLevelText',\n",
    "       'Scale_ID', 'DisplayText', 'RawScore', 'DecileScore', 'ScoreText',\n",
    "       'AssessmentType']\n",
    "\n",
    "csv = pd.read_csv(\"compas-scores-raw.csv\", usecols=columns)"
   ]
  },
  {
   "cell_type": "code",
   "execution_count": null,
   "metadata": {},
   "outputs": [
    {
     "name": "stdout",
     "output_type": "stream",
     "text": [
      "<pandas.core.groupby.generic.DataFrameGroupBy object at 0x7f2212866710>\n"
     ]
    }
   ],
   "source": [
    "np.random.seed(40)\n",
    "risk_violence = csv[csv[\"DisplayText\"] == \"Risk of Violence\"]\n",
    "risk_recidivism = csv[csv[\"DisplayText\"] == \"Risk of Recidivism\"]\n",
    "risk_failure_to_appear = csv[csv[\"DisplayText\"] == \"Risk of Failure to Appear\"]\n",
    "\n",
    "risk_recidivism"
   ]
  }
 ],
 "metadata": {
  "kernelspec": {
   "display_name": ".venv",
   "language": "python",
   "name": "python3"
  },
  "language_info": {
   "codemirror_mode": {
    "name": "ipython",
    "version": 3
   },
   "file_extension": ".py",
   "mimetype": "text/x-python",
   "name": "python",
   "nbconvert_exporter": "python",
   "pygments_lexer": "ipython3",
   "version": "3.11.11"
  }
 },
 "nbformat": 4,
 "nbformat_minor": 2
}
